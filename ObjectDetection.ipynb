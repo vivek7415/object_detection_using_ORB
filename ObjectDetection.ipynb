{
 "cells": [
  {
   "cell_type": "code",
   "execution_count": 1,
   "metadata": {},
   "outputs": [],
   "source": [
    "import cv2\n",
    "import numpy as np"
   ]
  },
  {
   "cell_type": "code",
   "execution_count": 2,
   "metadata": {},
   "outputs": [],
   "source": [
    "def ORB_detector(new_image, img_template):\n",
    "    \n",
    "    img1 = cv2.cvtColor(new_image, cv2.COLOR_BGR2GRAY)\n",
    "    orb = cv2.ORB_create(1000, 1.2)\n",
    "    \n",
    "    kp1, des1 = orb.detectAndCompute(img1, None)\n",
    "    \n",
    "    kp2, des2 = orb.detectAndCompute(img_template, None)\n",
    "    \n",
    "    bf = cv2.BFMatcher(cv2.NORM_HAMMING, crossCheck = True)\n",
    "    \n",
    "    matches = bf.match(des1, des2)\n",
    "    \n",
    "    return len(matches)"
   ]
  },
  {
   "cell_type": "code",
   "execution_count": null,
   "metadata": {},
   "outputs": [],
   "source": [
    "\n",
    "cap = cv2.VideoCapture(0)\n",
    "\n",
    "image_template = cv2.imread('C:/Users/vivek/Desktop/Object Vision Projects/Master OpenCV/examples/images/box_in_scene.png', 0)\n",
    "# cv2.imshow('x', image_template)\n",
    "# cv2.waitKey(0)\n",
    "while True:\n",
    "    \n",
    "    ret, frame = cap.read()\n",
    "    \n",
    "    height, width = frame.shape[:2]\n",
    "    \n",
    "    top_left_x = int (width/3)\n",
    "    top_left_y = int( (height/2) + (height/4))\n",
    "    bottom_right_x = int ((width/3)*2)\n",
    "    bottom_right_y = int( (height/2) - (height/4))\n",
    "    \n",
    "    \n",
    "    cv2.rectangle(frame, (top_left_x, top_left_y), (bottom_right_x, bottom_right_y), 255, 3)\n",
    "    \n",
    "    cropped = frame[bottom_right_y:top_left_y, top_left_x:bottom_right_x]\n",
    "    \n",
    "    frame = cv2.flip(frame, 1)\n",
    "    \n",
    "    matches = ORB_detector(cropped, image_template)\n",
    "    \n",
    "    output_string = 'Matches = ' + str(matches)\n",
    "    cv2.putText(frame, output_string,(50,450), cv2.FONT_HERSHEY_COMPLEX, 2, (250,0,250), 2)\n",
    "    \n",
    "    threshold = 350\n",
    "    \n",
    "    if matches > threshold:\n",
    "        \n",
    "        cv2.rectangle(frame, (top_left_x, top_left_y), (bottom_right_x, bottom_right_y), (0,255,0), 3)\n",
    "        cv2.putText(frame, 'object Found', (50,50), cv2.FONT_HERSHEY_COMPLEX, 2, (0,255,0), 2 )\n",
    "        \n",
    "    cv2.imshow('object detector using orb', frame)\n",
    "    \n",
    "    if cv2.waitKey==13:\n",
    "        break\n",
    "    \n",
    "cap.release()\n",
    "cv2.destroyAllWindows()\n",
    "    "
   ]
  },
  {
   "cell_type": "code",
   "execution_count": null,
   "metadata": {},
   "outputs": [],
   "source": []
  },
  {
   "cell_type": "code",
   "execution_count": null,
   "metadata": {},
   "outputs": [],
   "source": []
  }
 ],
 "metadata": {
  "kernelspec": {
   "display_name": "Python 3",
   "language": "python",
   "name": "python3"
  },
  "language_info": {
   "codemirror_mode": {
    "name": "ipython",
    "version": 3
   },
   "file_extension": ".py",
   "mimetype": "text/x-python",
   "name": "python",
   "nbconvert_exporter": "python",
   "pygments_lexer": "ipython3",
   "version": "3.7.5"
  }
 },
 "nbformat": 4,
 "nbformat_minor": 2
}
